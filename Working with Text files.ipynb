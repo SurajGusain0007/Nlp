{
 "cells": [
  {
   "cell_type": "markdown",
   "id": "12971a2b",
   "metadata": {},
   "source": [
    "# String Format"
   ]
  },
  {
   "cell_type": "code",
   "execution_count": 8,
   "id": "0d2e5d7a",
   "metadata": {},
   "outputs": [],
   "source": [
    "name=\"Data scientist\""
   ]
  },
  {
   "cell_type": "code",
   "execution_count": 9,
   "id": "f98f2203",
   "metadata": {},
   "outputs": [
    {
     "name": "stdout",
     "output_type": "stream",
     "text": [
      "I will become a Data scientist\n"
     ]
    }
   ],
   "source": [
    "print(\"I will become a {}\".format(name))"
   ]
  },
  {
   "cell_type": "code",
   "execution_count": 10,
   "id": "acac4980",
   "metadata": {},
   "outputs": [
    {
     "name": "stdout",
     "output_type": "stream",
     "text": [
      "I will become a Data scientist\n"
     ]
    }
   ],
   "source": [
    "print(f\"I will become a {name}\")"
   ]
  },
  {
   "cell_type": "code",
   "execution_count": null,
   "id": "ceb1bc54",
   "metadata": {},
   "outputs": [],
   "source": [
    "#Minimum width and alignment to column"
   ]
  },
  {
   "cell_type": "code",
   "execution_count": 11,
   "id": "b22b1fb9",
   "metadata": {},
   "outputs": [],
   "source": [
    "data_science_tuts=[(\"Python for begineers\",19),\n",
    "                  (\"Feature Selection for Machine Learning\",20),\n",
    "                  (\"Machine Learning tutorials\",30),\n",
    "                  (\"Deep Learning\",12)]"
   ]
  },
  {
   "cell_type": "code",
   "execution_count": 13,
   "id": "65175648",
   "metadata": {},
   "outputs": [
    {
     "name": "stdout",
     "output_type": "stream",
     "text": [
      "('Python for begineers', 19)\n",
      "('Feature Selection for Machine Learning', 20)\n",
      "('Machine Learning tutorials', 30)\n",
      "('Deep Learning', 12)\n"
     ]
    }
   ],
   "source": [
    "for info in data_science_tuts:\n",
    "    print(info)"
   ]
  },
  {
   "cell_type": "code",
   "execution_count": 16,
   "id": "98cebc7d",
   "metadata": {},
   "outputs": [
    {
     "name": "stdout",
     "output_type": "stream",
     "text": [
      "Python for begineers                                       19\n",
      "Feature Selection for Machine Learning                     20\n",
      "Machine Learning tutorials                                 30\n",
      "Deep Learning                                              12\n"
     ]
    }
   ],
   "source": [
    "for info in data_science_tuts:\n",
    "    print(f'{info[0]:{50}} {info[1]:{10}}')"
   ]
  },
  {
   "cell_type": "code",
   "execution_count": 22,
   "id": "ade59165",
   "metadata": {},
   "outputs": [
    {
     "name": "stdout",
     "output_type": "stream",
     "text": [
      "Python for begineers                               ........19\n",
      "Feature Selection for Machine Learning             ........20\n",
      "Machine Learning tutorials                         ........30\n",
      "Deep Learning                                      ........12\n"
     ]
    }
   ],
   "source": [
    "#<:left alignment >:right ^:centered\n",
    "for info in data_science_tuts:\n",
    "    print(f'{info[0]:<{50}} {info[1]:.>{10}}')"
   ]
  },
  {
   "cell_type": "code",
   "execution_count": null,
   "id": "de8cf721",
   "metadata": {},
   "outputs": [],
   "source": [
    "#built in magic command in jupyter only"
   ]
  },
  {
   "cell_type": "code",
   "execution_count": 26,
   "id": "305929ab",
   "metadata": {},
   "outputs": [
    {
     "name": "stdout",
     "output_type": "stream",
     "text": [
      "Overwriting text1.txt\n"
     ]
    }
   ],
   "source": [
    "%%writefile  text1.txt\n",
    "Thanks for reading\n",
    "This is awesome nlp lesson"
   ]
  },
  {
   "cell_type": "code",
   "execution_count": 27,
   "id": "bda0e265",
   "metadata": {},
   "outputs": [
    {
     "name": "stdout",
     "output_type": "stream",
     "text": [
      "Appending to text1.txt\n"
     ]
    }
   ],
   "source": [
    "%%writefile -a text1.txt\n",
    "Thanks for reading"
   ]
  },
  {
   "cell_type": "code",
   "execution_count": null,
   "id": "4ec5a0cd",
   "metadata": {},
   "outputs": [],
   "source": [
    "## Use inbuilt Python command to read and write"
   ]
  },
  {
   "cell_type": "code",
   "execution_count": 29,
   "id": "1832dd21",
   "metadata": {},
   "outputs": [],
   "source": [
    "file=open(\"text1.txt\",\"r\")"
   ]
  },
  {
   "cell_type": "code",
   "execution_count": 30,
   "id": "b6eb8859",
   "metadata": {},
   "outputs": [
    {
     "data": {
      "text/plain": [
       "'Thanks for reading\\nThis is awesome nlp lesson\\nThanks for reading\\n'"
      ]
     },
     "execution_count": 30,
     "metadata": {},
     "output_type": "execute_result"
    }
   ],
   "source": [
    "file.read()"
   ]
  },
  {
   "cell_type": "code",
   "execution_count": 31,
   "id": "d9e1c63b",
   "metadata": {},
   "outputs": [
    {
     "data": {
      "text/plain": [
       "''"
      ]
     },
     "execution_count": 31,
     "metadata": {},
     "output_type": "execute_result"
    }
   ],
   "source": [
    "file.read()"
   ]
  },
  {
   "cell_type": "code",
   "execution_count": 41,
   "id": "ea2d73fc",
   "metadata": {},
   "outputs": [
    {
     "data": {
      "text/plain": [
       "0"
      ]
     },
     "execution_count": 41,
     "metadata": {},
     "output_type": "execute_result"
    }
   ],
   "source": [
    "file.seek(0)"
   ]
  },
  {
   "cell_type": "code",
   "execution_count": 33,
   "id": "6bcfb065",
   "metadata": {},
   "outputs": [
    {
     "data": {
      "text/plain": [
       "'Thanks for reading\\nThis is awesome nlp lesson\\nThanks for reading\\n'"
      ]
     },
     "execution_count": 33,
     "metadata": {},
     "output_type": "execute_result"
    }
   ],
   "source": [
    "file.read()"
   ]
  },
  {
   "cell_type": "code",
   "execution_count": 34,
   "id": "6cd42f47",
   "metadata": {},
   "outputs": [
    {
     "data": {
      "text/plain": [
       "1"
      ]
     },
     "execution_count": 34,
     "metadata": {},
     "output_type": "execute_result"
    }
   ],
   "source": [
    "file.seek(1)"
   ]
  },
  {
   "cell_type": "code",
   "execution_count": 35,
   "id": "48ac4bda",
   "metadata": {},
   "outputs": [
    {
     "data": {
      "text/plain": [
       "'hanks for reading\\nThis is awesome nlp lesson\\nThanks for reading\\n'"
      ]
     },
     "execution_count": 35,
     "metadata": {},
     "output_type": "execute_result"
    }
   ],
   "source": [
    "file.read()"
   ]
  },
  {
   "cell_type": "code",
   "execution_count": 39,
   "id": "2b19dae1",
   "metadata": {},
   "outputs": [
    {
     "data": {
      "text/plain": [
       "'Thanks for reading\\n'"
      ]
     },
     "execution_count": 39,
     "metadata": {},
     "output_type": "execute_result"
    }
   ],
   "source": [
    "file.readline()"
   ]
  },
  {
   "cell_type": "code",
   "execution_count": 42,
   "id": "99ec5536",
   "metadata": {},
   "outputs": [
    {
     "data": {
      "text/plain": [
       "['Thanks for reading\\n',\n",
       " 'This is awesome nlp lesson\\n',\n",
       " 'Thanks for reading\\n']"
      ]
     },
     "execution_count": 42,
     "metadata": {},
     "output_type": "execute_result"
    }
   ],
   "source": [
    "file.readlines()"
   ]
  },
  {
   "cell_type": "code",
   "execution_count": 43,
   "id": "9f2e205a",
   "metadata": {},
   "outputs": [],
   "source": [
    "file.close()"
   ]
  },
  {
   "cell_type": "code",
   "execution_count": 44,
   "id": "9ea882f5",
   "metadata": {},
   "outputs": [
    {
     "ename": "ValueError",
     "evalue": "I/O operation on closed file.",
     "output_type": "error",
     "traceback": [
      "\u001b[1;31m---------------------------------------------------------------------------\u001b[0m",
      "\u001b[1;31mValueError\u001b[0m                                Traceback (most recent call last)",
      "\u001b[1;32m~\\AppData\\Local\\Temp/ipykernel_35260/2233833960.py\u001b[0m in \u001b[0;36m<module>\u001b[1;34m\u001b[0m\n\u001b[1;32m----> 1\u001b[1;33m \u001b[0mfile\u001b[0m\u001b[1;33m.\u001b[0m\u001b[0mreadline\u001b[0m\u001b[1;33m(\u001b[0m\u001b[1;33m)\u001b[0m\u001b[1;33m\u001b[0m\u001b[1;33m\u001b[0m\u001b[0m\n\u001b[0m",
      "\u001b[1;31mValueError\u001b[0m: I/O operation on closed file."
     ]
    }
   ],
   "source": [
    "file.readline()"
   ]
  },
  {
   "cell_type": "code",
   "execution_count": 46,
   "id": "480af021",
   "metadata": {},
   "outputs": [
    {
     "name": "stdout",
     "output_type": "stream",
     "text": [
      "['Thanks for reading\\n', 'This is awesome nlp lesson\\n', 'Thanks for reading\\n']\n"
     ]
    }
   ],
   "source": [
    "with open('text1.txt') as file:\n",
    "    text_data=file.readlines()\n",
    "    print(text_data)\n"
   ]
  },
  {
   "cell_type": "code",
   "execution_count": 47,
   "id": "d57cc774",
   "metadata": {},
   "outputs": [
    {
     "name": "stdout",
     "output_type": "stream",
     "text": [
      "Thanks for reading\n",
      "This is awesome nlp lesson\n",
      "Thanks for reading\n"
     ]
    }
   ],
   "source": [
    "for temp in text_data:\n",
    "    print(temp.strip())"
   ]
  },
  {
   "cell_type": "code",
   "execution_count": 48,
   "id": "bcc32d06",
   "metadata": {},
   "outputs": [],
   "source": [
    "file=open(\"text2.txt\",\"w\")"
   ]
  },
  {
   "cell_type": "code",
   "execution_count": 49,
   "id": "d983c647",
   "metadata": {},
   "outputs": [
    {
     "data": {
      "text/plain": [
       "28"
      ]
     },
     "execution_count": 49,
     "metadata": {},
     "output_type": "execute_result"
    }
   ],
   "source": [
    "file.write(\"This is the best lesson ever\")"
   ]
  },
  {
   "cell_type": "code",
   "execution_count": 50,
   "id": "e9f36d51",
   "metadata": {},
   "outputs": [],
   "source": [
    "file.close()"
   ]
  },
  {
   "cell_type": "code",
   "execution_count": 56,
   "id": "4e7a87d6",
   "metadata": {},
   "outputs": [],
   "source": [
    "with open(\"text3.txt\",\"w\") as file:\n",
    "    file.write(\"this is suraj \\n\")"
   ]
  },
  {
   "cell_type": "code",
   "execution_count": 53,
   "id": "c8f5e4be",
   "metadata": {},
   "outputs": [
    {
     "data": {
      "text/plain": [
       "['Thanks for reading\\n',\n",
       " 'This is awesome nlp lesson\\n',\n",
       " 'Thanks for reading\\n']"
      ]
     },
     "execution_count": 53,
     "metadata": {},
     "output_type": "execute_result"
    }
   ],
   "source": [
    "text_data"
   ]
  },
  {
   "cell_type": "code",
   "execution_count": 57,
   "id": "0e16342d",
   "metadata": {},
   "outputs": [],
   "source": [
    "with open(\"text3.txt\",\"a\") as file:\n",
    "    for  temp in text_data:\n",
    "        file.write(temp)\n",
    "        \n",
    "    "
   ]
  },
  {
   "cell_type": "code",
   "execution_count": null,
   "id": "6b0e6e04",
   "metadata": {},
   "outputs": [],
   "source": []
  }
 ],
 "metadata": {
  "kernelspec": {
   "display_name": "Python 3 (ipykernel)",
   "language": "python",
   "name": "python3"
  },
  "language_info": {
   "codemirror_mode": {
    "name": "ipython",
    "version": 3
   },
   "file_extension": ".py",
   "mimetype": "text/x-python",
   "name": "python",
   "nbconvert_exporter": "python",
   "pygments_lexer": "ipython3",
   "version": "3.9.7"
  }
 },
 "nbformat": 4,
 "nbformat_minor": 5
}
